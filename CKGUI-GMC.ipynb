{
 "cells": [
  {
   "cell_type": "code",
   "execution_count": 3,
   "id": "ce3841e3-d592-4bfb-bb2d-8b11771977c0",
   "metadata": {},
   "outputs": [],
   "source": [
    "import tkinter as tk\n",
    "\n",
    "def fahrenheit_to_celsius(fahrenheit):\n",
    " \n",
    "    fahrenheit_entry = fahrenheit\n",
    "    fahrenheit = float(fahrenheit_entry)\n",
    "    celsius = (fahrenheit - 32) * 5 / 9\n",
    "    celsius = round(celsius, 2)\n",
    "    return celsius\n",
    "\n",
    "window = tk.Tk()\n",
    "window.title(\"Temperature Converter\")\n",
    "window.resizable(width=False, height=False)\n",
    "\n",
    "\n",
    "frm_entry = tk.Frame(master=window)\n",
    "\n",
    "ent_temperature = tk.Entry(master=frm_entry, width=10)\n",
    "\n",
    "ent_temperature.grid(row=0, column=0, sticky=\"e\")\n",
    "lbl_temp = tk.Label(master=frm_entry, text=\"\\N{DEGREE FAHRENHEIT}\")\n",
    "lbl_temp.grid(row=0, column=1, sticky=\"w\")\n",
    "\n",
    "def convert_and_display():\n",
    "    fahrenheit = ent_temperature.get()\n",
    "    celsius = fahrenheit_to_celsius(fahrenheit)\n",
    "    lbl_result.config(text=f\"{celsius} \\N{DEGREE CELSIUS}\")\n",
    "\n",
    "btn_convert = tk.Button(master=window, text=\"\\N{RIGHTWARDS BLACK ARROW}\", command=convert_and_display)\n",
    "lbl_result = tk.Label(master=window, text=\"\")\n",
    "\n",
    "frm_entry.grid(row=0, column=0, padx=10)\n",
    "btn_convert.grid(row=0, column=1, pady=10)\n",
    "lbl_result.grid(row=0, column=2, padx=10)\n",
    "\n",
    "window.mainloop()\n",
    "\n",
    "\n"
   ]
  },
  {
   "cell_type": "code",
   "execution_count": null,
   "id": "5f7ae79a-ab48-48b8-ad85-a71dbb0ccc36",
   "metadata": {},
   "outputs": [],
   "source": []
  }
 ],
 "metadata": {
  "kernelspec": {
   "display_name": "Python 3 (ipykernel)",
   "language": "python",
   "name": "python3"
  },
  "language_info": {
   "codemirror_mode": {
    "name": "ipython",
    "version": 3
   },
   "file_extension": ".py",
   "mimetype": "text/x-python",
   "name": "python",
   "nbconvert_exporter": "python",
   "pygments_lexer": "ipython3",
   "version": "3.11.7"
  }
 },
 "nbformat": 4,
 "nbformat_minor": 5
}
